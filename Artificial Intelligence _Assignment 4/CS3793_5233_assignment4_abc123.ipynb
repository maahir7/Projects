{
  "nbformat": 4,
  "nbformat_minor": 0,
  "metadata": {
    "colab": {
      "name": "CS3793/5233_assignment4_abc123.ipynb",
      "provenance": [],
      "collapsed_sections": [],
      "toc_visible": true
    },
    "kernelspec": {
      "name": "python3",
      "display_name": "Python 3"
    }
  },
  "cells": [
    {
      "cell_type": "markdown",
      "metadata": {
        "id": "9wUL_Fy5qUDI"
      },
      "source": [
        "# UTSA CS 3793/5233: Assignment-4\n",
        "\n",
        "Summer 2021\n",
        "\n",
        "\n",
        "**Last Name - First Name - (abc123)**\n",
        "\n",
        "\n",
        "\n",
        "\n"
      ]
    },
    {
      "cell_type": "markdown",
      "metadata": {
        "id": "NM8b9KVYsETT"
      },
      "source": [
        "## Learning Objectives\n",
        "\n",
        "*   Deep Learning\n",
        "*   Computer Vision - Convolutional Neural Network\n",
        "*   Natrual Language Processing - Recurrent Neural Network"
      ]
    },
    {
      "cell_type": "markdown",
      "metadata": {
        "id": "LzR4Ic34zJlT"
      },
      "source": [
        "\n",
        "## General Information\n",
        "\n",
        "The base structure and comments are provided on what should be done. You are free to use any code from online sources, but please cite the source properly. Also, you are supposed to create/train the DL model and not use pre-trained models.\n",
        "\n",
        "**TIPS** while working on this assignment:\n",
        "\n",
        "\n",
        "*   You will have to keep on updating the model to improve accuracy. Hence, all except the first step (loading the data) would be repeated multiple times. i.e. repeat -- model creation, training & testing.\n",
        "*   Training a Deep Learning model on real-world datasets and obtain decent accuracy is time consuming. For this assignment, it may take at least 40-60 min, if not more, to train the complete data and get around 35% testing accuracy. Hence, have enough time planned out for finishing the assignment.\n",
        "*   Because of the large training time, it is impossisble to train each student's model. Hence, you will be required to **save the weights** in a file. These weights can then be loaded for testing purposes. More information is provided in a TensorFlow tutorial [here](https://www.tensorflow.org/tutorials/keras/save_and_load).\n",
        "*   Please refer to the [TensorFlow Keras API](https://www.tensorflow.org/api_docs/python/tf/keras) for selecting the *'activation function', 'loss', 'optimizer' & 'metrics'*. At least use 'accuracy' as one of the 'metrics'.\n",
        "\n",
        "\n"
      ]
    },
    {
      "cell_type": "markdown",
      "metadata": {
        "id": "vnPfmHAOteOI"
      },
      "source": [
        "##Import Libraries\n",
        "\n",
        "Write all the import statements here."
      ]
    },
    {
      "cell_type": "code",
      "metadata": {
        "id": "f9apbZGptej6"
      },
      "source": [
        "# import all required libraries\n",
        "\n"
      ],
      "execution_count": null,
      "outputs": []
    },
    {
      "cell_type": "markdown",
      "metadata": {
        "id": "bmVoTnmBdVfc"
      },
      "source": [
        "# Computer Vision - CNN\n",
        "\n",
        "The goal of this task is to get hands-on experience in developing, training and testing **Convolutional Neural Network** for the Computer Vision task of Object/Image Classification."
      ]
    },
    {
      "cell_type": "markdown",
      "metadata": {
        "id": "YeYRnesWqvLm"
      },
      "source": [
        "## Load/Prepare Data\n",
        "\n",
        "(20 points)\n",
        "\n",
        "In this assignment, will work with the well-known **CIFAR-100 dataset**. The dataset consists of 60000 32x32 color images, which belong to 100 classes, with 600 images per class. There are 50000 training images (500 per class) and 10000 test images (100 per class). The 100 classes in the dataset are grouped into 20 superclasses. Each image comes with a \"fine\" label (the class to which it belongs) and a \"coarse\" label (the superclass to which it belongs). More information about the dataset can be found [here](https://www.cs.toronto.edu/~kriz/cifar.html). Please visit this [website](https://benchmarks.ai/cifar-100) for the benchmark performances of different techniques on the CIFAR-100 dataset.\n",
        "\n",
        "In this section, you will write code for the following: \n",
        "\n",
        "*   Load the CIFAR-100 dataset\n",
        "*   Prepare the data to be used for the DL model creation and training\n",
        "*   Visualize the data by plotting 100 random images, one each for the 100 classes\n",
        "\n"
      ]
    },
    {
      "cell_type": "code",
      "metadata": {
        "id": "YdPwgSBOtb1P"
      },
      "source": [
        "# Load the data - training as well as testing\n",
        "\n",
        "\n",
        "# Prepare the data that can be used by the next step - creating and training the DL model\n",
        "\n",
        "\n",
        "# The data from TensforFlow and Keras will only have integer class labels. Each of those 100 integer class labels correspond to the following names, in the correct order\n",
        "fine_labels = ['apple', 'aquarium_fish', 'baby', 'bear', 'beaver', 'bed', 'bee', 'beetle', 'bicycle', 'bottle', 'bowl', 'boy', 'bridge', 'bus', 'butterfly', 'camel', 'can', 'castle', 'caterpillar', 'cattle', 'chair', 'chimpanzee', 'clock', 'cloud', 'cockroach', 'couch', 'crab', 'crocodile', 'cup', 'dinosaur', 'dolphin', 'elephant', 'flatfish', 'forest', 'fox', 'girl', 'hamster', 'house', 'kangaroo', 'keyboard', 'lamp', 'lawn_mower', 'leopard', 'lion', 'lizard', 'lobster', 'man', 'maple_tree', 'motorcycle', 'mountain', 'mouse', 'mushroom', 'oak_tree', 'orange', 'orchid', 'otter', 'palm_tree', 'pear', 'pickup_truck', 'pine_tree', 'plain', 'plate', 'poppy', 'porcupine', 'possum', 'rabbit', 'raccoon', 'ray', 'road', 'rocket', 'rose', 'sea', 'seal', 'shark', 'shrew', 'skunk', 'skyscraper', 'snail', 'snake', 'spider', 'squirrel', 'streetcar', 'sunflower', 'sweet_pepper', 'table', 'tank', 'telephone', 'television', 'tiger', 'tractor', 'train', 'trout', 'tulip', 'turtle', 'wardrobe', 'whale', 'willow_tree', 'wolf', 'woman', 'worm']\n",
        "\n",
        "# These are the string labels for the 20 superclasses. You may not need to use this at all, just provided here for reference.\n",
        "coarse_labels = ['aquatic_mammals', 'fish', 'flowers', 'food_containers', 'fruit_and_vegetables', 'household_electrical_devices', 'household_furniture', 'insects', 'large_carnivores', 'large_man-made_outdoor_things', 'large_natural_outdoor_scenes', 'large_omnivores_and_herbivores', 'medium_mammals', 'non-insect_invertebrates', 'people', 'reptiles', 'small_mammals', 'trees', 'vehicles_1', 'vehicles_2']\n",
        "\n"
      ],
      "execution_count": null,
      "outputs": []
    },
    {
      "cell_type": "code",
      "metadata": {
        "id": "mTXdF_Cp-G7X"
      },
      "source": [
        "# Visualize the data by plotting 100 random images, one each for the 100 classes\n",
        "# Draw 10 images in one row, 10 rows total\n",
        "\n"
      ],
      "execution_count": null,
      "outputs": []
    },
    {
      "cell_type": "markdown",
      "metadata": {
        "id": "lYxmgcnes9cS"
      },
      "source": [
        "## CNN Model Creation\n",
        "\n",
        "(20 points)\n",
        "\n",
        "In this section, you will write code for the following:\n",
        "\n",
        "*   Create a DL model for Computer Vision - Convolutional Neural Network (Use *TensorFlow* and *keras*, as shown in the example code in the lecture for 'deep-learning')\n",
        "*   Print the DL model summary"
      ]
    },
    {
      "cell_type": "code",
      "metadata": {
        "id": "fbBNakSDq0Wv"
      },
      "source": [
        "# Create a DL model for Computer Vision - Convolutional Neural Network (Use *TensorFlow* and *keras*, as shown in the example code in the lecture for 'deep-learning')\n",
        "\n"
      ],
      "execution_count": null,
      "outputs": []
    },
    {
      "cell_type": "code",
      "metadata": {
        "id": "Ey6KYQER6qBe"
      },
      "source": [
        "# Print the DL model summary\n",
        "\n"
      ],
      "execution_count": null,
      "outputs": []
    },
    {
      "cell_type": "markdown",
      "metadata": {
        "id": "onnqJYTEq0l3"
      },
      "source": [
        "## Training\n",
        "\n",
        "(20 points)\n",
        "\n",
        "In this section, you will write code to do the following:\n",
        "\n",
        "*   Train/fit the DL model using the training CIFAR-100 data\n",
        "*   Plot the training/validation accuracy and loss\n",
        "*   *Save the trained model weights* in a folder in the google drive at at location \"/content/drive/My Drive/Colab Notebooks/cifar/\", to be used for the testing phase\n"
      ]
    },
    {
      "cell_type": "code",
      "metadata": {
        "id": "NuBcHrJnSlgX"
      },
      "source": [
        "# Set the model checkpoints to be saved in a folder in the google drive at at location \"/content/drive/My Drive/Colab Notebooks/cifar/\"\n",
        "\n"
      ],
      "execution_count": null,
      "outputs": []
    },
    {
      "cell_type": "code",
      "metadata": {
        "id": "XELGzRDftS77"
      },
      "source": [
        "# Train/fit the DL model using the training CIFAR-100 data\n",
        "\n"
      ],
      "execution_count": null,
      "outputs": []
    },
    {
      "cell_type": "code",
      "metadata": {
        "id": "jmeccHAWSgYq"
      },
      "source": [
        "# Plot the training/validation accuracy and loss\n",
        "\n"
      ],
      "execution_count": null,
      "outputs": []
    },
    {
      "cell_type": "markdown",
      "metadata": {
        "id": "YvYowzzA4vcd"
      },
      "source": [
        "## Testing/Evaluation\n",
        "\n",
        "(15 points)\n",
        "\n",
        "In this section, you will write code for the following:\n",
        "\n",
        "*   Re-initialize the model\n",
        "*   Load the model weights that were saved at \"/content/drive/My Drive/Colab Notebooks/cifar/\" ([code reference](https://www.tensorflow.org/tutorials/keras/save_and_load))\n",
        "*   Evaluate the trained DL model on the CIFAR-100 test dataset. Accuracy value should be printed. Please visit this [website](https://benchmarks.ai/cifar-100) for the benchmark performances of different techniques on the CIFAR-100 dataset.\n",
        "\n",
        "This section of the code should be able to run independently from the **training** section, i.e. run this section directly after creating the model. "
      ]
    },
    {
      "cell_type": "code",
      "metadata": {
        "id": "FYSK99zp5a7H"
      },
      "source": [
        "# Re-initialize the model\n",
        "\n"
      ],
      "execution_count": null,
      "outputs": []
    },
    {
      "cell_type": "code",
      "metadata": {
        "id": "rXqv2MBa-d1D"
      },
      "source": [
        "# Load the model weights that were saved at - \"/content/drive/My Drive/Colab Notebooks/cifar/\"\n",
        "\n"
      ],
      "execution_count": null,
      "outputs": []
    },
    {
      "cell_type": "code",
      "metadata": {
        "id": "cutSjcrg-eIO"
      },
      "source": [
        "# Evaluate the trained DL model on the CIFAR-100 test dataset\n",
        "\n"
      ],
      "execution_count": null,
      "outputs": []
    },
    {
      "cell_type": "markdown",
      "metadata": {
        "id": "Xxtan9iz-hdY"
      },
      "source": [
        "## Model Performance - Accuracy (Extra Credit)\n",
        "\n",
        "(10 points)\n",
        "\n",
        "For the models submitted, we will look at the accuracy values on the test data. Credit will be allocated based on how the performance is for your model. The submission with the highest accuracy value will get the highest credit and the one with the lowest accuracy value will get the lowest credit."
      ]
    },
    {
      "cell_type": "markdown",
      "metadata": {
        "id": "c_s0l_dmOfH4"
      },
      "source": [
        "# Natural Language Processing - RNN\n",
        "\n",
        "The goal of this task is to get hands-on experience in developing, training and testing **Recurrent Neural Network** for the Natural Language Processing task of Sentiment Analysis / Text Classification. In this part, you will work with the well-known **Reuters newswire classification dataset**. The dataset consists of newswires from Reuters, labeled over 46 topics. More information about the dataset can be found [here](https://archive.ics.uci.edu/ml/datasets/reuters-21578+text+categorization+collection) or [here](https://keras.io/api/datasets/reuters/). The Keras dataset is a cleaned and organized version of the original dataset and consists of 11,228 newswires (8982 training and 2246 testing). The goal is to classify a newswire into one of the 46 output catergories.\n"
      ]
    },
    {
      "cell_type": "markdown",
      "metadata": {
        "id": "zGcX6X3CPMpn"
      },
      "source": [
        "## Load/Prepare Data\n",
        "\n",
        "(20 points)\n",
        "\n",
        "In this section, you will write code for the following: \n",
        "\n",
        "*   Load the Reuters dataset - use the Keras version\n",
        " *   Select the vocabulary size while loading the data\n",
        " *   The data will be loaded as integer representations for each word\n",
        "*   Prepare the data to be used for the next steps\n",
        " *   Each data entry (newswire) can be of different lengths\n",
        " *   Make each newswire consistent - same number of words\n",
        " *   'Pad' words (say 0) to get to the standard length or remove words"
      ]
    },
    {
      "cell_type": "code",
      "metadata": {
        "id": "7YmiwKnnPSnI"
      },
      "source": [
        "# Load the Reuters dataset - use the Keras version\n",
        "#   Select the vocabulary size while loading the data\n",
        "#   The data will be loaded as integer representations for each word\n",
        "\n"
      ],
      "execution_count": null,
      "outputs": []
    },
    {
      "cell_type": "code",
      "metadata": {
        "id": "wx0eke6yPVXy"
      },
      "source": [
        "# Prepare the data to be used for the next steps\n",
        "#   Each data entry (newswire) can be of different lengths\n",
        "#   Make each newswire consistent - same number of words\n",
        "#   'Pad' words (say 0) to get to the standard length or remove words\n",
        "\n"
      ],
      "execution_count": null,
      "outputs": []
    },
    {
      "cell_type": "markdown",
      "metadata": {
        "id": "1nDhDhMSPTIh"
      },
      "source": [
        "## RNN Model Creation\n",
        "\n",
        "(20 points)\n",
        "\n",
        "In this section, you will write code for the following:\n",
        "\n",
        "*   Create a DL model for Natural Language Processing - Recurrent Neural Network / LSTM / GRU\n",
        "*   Print the DL model summary"
      ]
    },
    {
      "cell_type": "code",
      "metadata": {
        "id": "dYDNfNhYPcl-"
      },
      "source": [
        "# Create a DL model for Natural Language Processing - Recurrent Neural Network / LSTM / GRU\n",
        "\n"
      ],
      "execution_count": null,
      "outputs": []
    },
    {
      "cell_type": "code",
      "metadata": {
        "id": "6KAwHLK0PgLK"
      },
      "source": [
        "# Print the DL model summary\n",
        "\n"
      ],
      "execution_count": null,
      "outputs": []
    },
    {
      "cell_type": "markdown",
      "metadata": {
        "id": "bZfgMNxrPhxJ"
      },
      "source": [
        "## Training\n",
        "\n",
        "(20 points)\n",
        "\n",
        "In this section, you will write code to do the following:\n",
        "\n",
        "*   Train/fit the DL model using the training Reuters data\n",
        "*   Plot the training/validation accuracy and loss\n",
        "*   *Save the trained model weights* in a folder in the google drive at at location \"/content/drive/My Drive/Colab Notebooks/reuters/\" ([code reference](https://www.tensorflow.org/tutorials/keras/save_and_load)), to be used for the testing phase\n"
      ]
    },
    {
      "cell_type": "code",
      "metadata": {
        "id": "ldyK8rXxPqeG"
      },
      "source": [
        "# Set the model checkpoints to be saved in a folder in the google drive at at location \"/content/drive/My Drive/Colab Notebooks/reuters/\"\n",
        "\n"
      ],
      "execution_count": null,
      "outputs": []
    },
    {
      "cell_type": "code",
      "metadata": {
        "id": "QJx4Z2r6PnE9"
      },
      "source": [
        "# Train/fit the DL model using the training Reuters data\n",
        "\n"
      ],
      "execution_count": null,
      "outputs": []
    },
    {
      "cell_type": "code",
      "metadata": {
        "id": "gkKo129dPo42"
      },
      "source": [
        "# Plot the training/validation accuracy and loss\n",
        "\n"
      ],
      "execution_count": null,
      "outputs": []
    },
    {
      "cell_type": "markdown",
      "metadata": {
        "id": "7tGgGsiRPxBr"
      },
      "source": [
        "## Testing/Evaluation\n",
        "\n",
        "(15 points)\n",
        "\n",
        "In this section, you will write code for the following:\n",
        "\n",
        "*   Re-initialize the model\n",
        "*   Load the model weights that were saved at \"/content/drive/My Drive/Colab Notebooks/reuters/\" ([code reference](https://www.tensorflow.org/tutorials/keras/save_and_load))\n",
        "*   Evaluate the trained DL model on the Reuters test dataset. Accuracy value should be printed.\n",
        "\n",
        "This section of the code should be able to run independently from the **training** section, i.e., run this section directly after creating the model."
      ]
    },
    {
      "cell_type": "code",
      "metadata": {
        "id": "9sKv9TftPwX5"
      },
      "source": [
        "# Re-initialize the model\n",
        "\n"
      ],
      "execution_count": null,
      "outputs": []
    },
    {
      "cell_type": "code",
      "metadata": {
        "id": "qyLiMplSP5QA"
      },
      "source": [
        "# Load the model weights that were saved at - \"/content/drive/My Drive/Colab Notebooks/reuters/\"\n",
        "\n"
      ],
      "execution_count": null,
      "outputs": []
    },
    {
      "cell_type": "code",
      "metadata": {
        "id": "PuKL-lX7P64y"
      },
      "source": [
        "# Evaluate the trained DL model on the Reuters test dataset\n",
        "\n"
      ],
      "execution_count": null,
      "outputs": []
    },
    {
      "cell_type": "markdown",
      "metadata": {
        "id": "YJSFgNBQrhQU"
      },
      "source": [
        "# Submission Instructions\n",
        "\n",
        "\n",
        "\n",
        "1.   Complete all tasks above.\n",
        "2.   Export this notebook as .ipynb\n",
        "      (File > Download as ipynb)\n",
        "3.   Download and zip the folders \"/content/drive/My Drive/Colab Notebooks/cifar/\" (abc123_cifar_model.zip) and \"/content/drive/My Drive/Colab Notebooks/reuters/\" (abc123_reuters_model.zip) \n",
        "4.   Upload the .ipynb file and .zip on Blackboard\n",
        "\n"
      ]
    },
    {
      "cell_type": "markdown",
      "metadata": {
        "id": "0lGvLE9H6ptL"
      },
      "source": [
        "## Rubric\n",
        "\n",
        "*   Computer Vision - CNN\n",
        "    *   (20 points) Load/Prepare Data\n",
        "    *   (20 points) CNN Model Creation\n",
        "    *   (20 points) Training\n",
        "    *   (15 points) Testing/Evaluation\n",
        "    *   (10 points) EXTRA CREDIT - Model Performance - Accuracy\n",
        "*   Natural Language Processing - RNN\n",
        "    *   (20 points) Load/Prepare Data\n",
        "    *   (20 points) RNN Model Creation\n",
        "    *   (20 points) Training\n",
        "    *   (15 points) Testing/Evaluation \n",
        "\n"
      ]
    }
  ]
}
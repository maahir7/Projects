{
  "nbformat": 4,
  "nbformat_minor": 0,
  "metadata": {
    "colab": {
      "name": "CS3793_5233_assignment3_ert547.ipynb",
      "provenance": [],
      "collapsed_sections": [],
      "toc_visible": true
    },
    "kernelspec": {
      "name": "python3",
      "display_name": "Python 3"
    }
  },
  "cells": [
    {
      "cell_type": "markdown",
      "metadata": {
        "id": "9wUL_Fy5qUDI"
      },
      "source": [
        "# UTSA CS 3793/5233: Assignment-3\n",
        "\n",
        "Summer 2021\n",
        "\n",
        "\n",
        "**Maahir - Kalban - (ert547)**\n",
        "\n",
        "\n",
        "\n",
        "\n"
      ]
    },
    {
      "cell_type": "markdown",
      "metadata": {
        "id": "NM8b9KVYsETT"
      },
      "source": [
        "## Learning Objectives\n",
        "\n",
        "Implement 2 different machine learning algorithms\n",
        "*   Stochastic Gradient Descent\n",
        "*   ID3 Decision Tree\n"
      ]
    },
    {
      "cell_type": "markdown",
      "metadata": {
        "id": "LzR4Ic34zJlT"
      },
      "source": [
        "\n",
        "## Description\n",
        "\n",
        "This assignment is focused on **machine learning**, mainly on the implementation of 2 different algorithms - Stochastic Gradient Descent & ID3 decision tree. \n",
        "The assignment is divided into two sections, each for one unique ML algorithm. \n",
        "\n",
        "The base structure and comments are provided on what should be done. You can use some libraries that help support you for the successful completion of the assignment. However, you **CANNOT** use a complete library that contains the implementation of ML algorithms. You can get pieces of code from online, but please cite the source properly.\n"
      ]
    },
    {
      "cell_type": "markdown",
      "metadata": {
        "id": "vnPfmHAOteOI"
      },
      "source": [
        "##Import Libraries\n",
        "\n",
        "Write all the import statements here. This should be for both algorithm implmentations. As mentioned before, you can not use any premade ML libraries."
      ]
    },
    {
      "cell_type": "code",
      "metadata": {
        "id": "f9apbZGptej6",
        "colab": {
          "base_uri": "https://localhost:8080/"
        },
        "outputId": "b8234123-9f26-45b4-c6a4-bc34db03b904"
      },
      "source": [
        "# import all required libraries\n",
        "import numpy as np \n",
        "import pandas as pd\n",
        "from google.colab import drive\n",
        "drive.mount('/content/drive/')\n",
        "\n"
      ],
      "execution_count": 11,
      "outputs": [
        {
          "output_type": "stream",
          "text": [
            "Drive already mounted at /content/drive/; to attempt to forcibly remount, call drive.mount(\"/content/drive/\", force_remount=True).\n"
          ],
          "name": "stdout"
        }
      ]
    },
    {
      "cell_type": "code",
      "metadata": {
        "id": "RA_tE1fZ4SNu"
      },
      "source": [
        ""
      ],
      "execution_count": 11,
      "outputs": []
    },
    {
      "cell_type": "code",
      "metadata": {
        "id": "fdqXyFZ95P0j",
        "colab": {
          "base_uri": "https://localhost:8080/"
        },
        "outputId": "ca26c303-4336-4995-a5af-1733260086a5"
      },
      "source": [
        "# Assume that the data files are in the following folder -- THIS WILL BE USED BY THE TA\n",
        "basePath = \"/content/drive/My Drive/Colab Notebooks/Artificial Intelligence/Data/\"\n",
        "\n",
        "!ls \"/content/drive/My Drive/Colab Notebooks/Artificial Intelligence/Data/\"\n",
        "\n",
        "train_file = pd.read_csv(\"/content/drive/My Drive/Colab Notebooks/Artificial Intelligence/Data/gd-train.dat\")\n",
        "\n",
        "test_file = pd.read_csv (\"/content/drive/My Drive/Colab Notebooks/Artificial Intelligence/Data/gd-test.dat\")\n",
        "\n",
        "train = pd.read_csv(\"/content/drive/My Drive/Colab Notebooks/Artificial Intelligence/Data/id3-train.dat\")\n",
        "\n",
        "test = pd.read_csv (\"/content/drive/My Drive/Colab Notebooks/Artificial Intelligence/Data/id3-test.dat\")\n"
      ],
      "execution_count": 12,
      "outputs": [
        {
          "output_type": "stream",
          "text": [
            "cities.csv     gd-test.dat   id3-test.dat\n",
            "distances.csv  gd-train.dat  id3-train.dat\n"
          ],
          "name": "stdout"
        }
      ]
    },
    {
      "cell_type": "code",
      "metadata": {
        "id": "jwyTsBePC1Ar"
      },
      "source": [
        "import pandas as pd \n",
        "import numpy as np \n",
        "import matplotlib.pyplot as plt\n",
        "\n",
        "#train_file = \"gd-train.dat\"\n",
        "#test_file = \"gd-test.dat\"\n",
        "\n",
        "def is_float(string):\n",
        "    \"\"\" True if given string is float else False\"\"\"\n",
        "    try:\n",
        "        return float(string)\n",
        "    except ValueError:\n",
        "        return False\n",
        "\n",
        "data = [] \n",
        "with open( '/content/drive/My Drive/Colab Notebooks/Artificial Intelligence/Data/gd-train.dat', 'r') as f:\n",
        "    next(f)\n",
        "    d = f.readlines()\n",
        "    for i in d:\n",
        "        k = i[:-1]\n",
        "        k = k.split()\n",
        "        data.append([float (i)  for i in k]) \n",
        "data = np.array(data, dtype='O')\n"
      ],
      "execution_count": 13,
      "outputs": []
    },
    {
      "cell_type": "code",
      "metadata": {
        "id": "DHGKH-GN3f-a"
      },
      "source": [
        ""
      ],
      "execution_count": 13,
      "outputs": []
    },
    {
      "cell_type": "markdown",
      "metadata": {
        "id": "YeYRnesWqvLm"
      },
      "source": [
        "#Stochastic Gradient Descent\n",
        "\n",
        "In this section, you will implement the Stochastic Gradient Descent algorithm. The training is for a **binary classification** task i.e. each instance will have a class value of 0 or 1. Also, assume that you are given **all binary-valued attributes** and that there are **no missing values** in the train or test data. \n"
      ]
    },
    {
      "cell_type": "markdown",
      "metadata": {
        "id": "IUVZIK6ctMi4"
      },
      "source": [
        "##Algorithm\n",
        "\n",
        "(40 points)\n",
        "\n",
        "Following are the data files that will be provided to you for the gradient descent algorithm implementation.\n",
        "\n",
        "*   Training file - 'gd-train.dat'\n",
        "*   Testing file - 'gd-test.dat'\n",
        "\n",
        "*Both these files should be present in the same folder as this code file.* In these files, only non-space characters are relevant. The first line contains the attribute names. All the other lines are different example instances to be used for the algorithm. Each column holds values of the attributes, whereas the last column holds the class label for that instance.\n",
        "\n",
        "Write the code in the following code block, structure is provided. Instructions on the steps to follow are provided as comments.\n",
        "\n"
      ]
    },
    {
      "cell_type": "code",
      "metadata": {
        "id": "YdPwgSBOtb1P",
        "colab": {
          "base_uri": "https://localhost:8080/",
          "height": 1000
        },
        "outputId": "1a34efb4-cc2e-4402-cc47-1e4d09e6609d"
      },
      "source": [
        "# Data file name variables\n",
        "train_file = '/content/drive/My Drive/Colab Notebooks/Artificial Intelligence/Data/gd-train.dat'\n",
        "test_file = '/content/drive/My Drive/Colab Notebooks/Artificial Intelligence/Data/gd-test.dat'\n",
        "import matplotlib.pyplot as plt\n",
        "import numpy as np\n",
        "import pandas as pd\n",
        "\n",
        "# Threshold of 0.5 will be used to classify the instance for the test. If the value is >= 0.5, classify as 1 or else 0.\n",
        "\n",
        "\n",
        "# last columns is the lable so this is supervised learning \n",
        "\n",
        "threshold = 0.5\n",
        "def is_float(string):\n",
        "    \"\"\" True if given string is float else False\"\"\"\n",
        "    try:\n",
        "        return float(string)\n",
        "    except ValueError:\n",
        "        return False\n",
        "\n",
        "\n",
        "\n",
        "# Open the training file\n",
        "\n",
        "\n",
        "# Read the first line to get the number of attributes\n",
        "# Initialize weights for all attributes to 0\n",
        "# Read all the training instances\n",
        "# The learning rate for the algorithm. You will loop through the data and train for different learning rates from 0.05-1, in increments of 0.05.  \n",
        "#initilize slope is 0 \n",
        "#llength of attribute \n",
        "# Main algorithm loop\n",
        "\n",
        "def main (file, style ):\n",
        "  data = []\n",
        "  learning_rate = 0.05 \n",
        "  learning_list =[] \n",
        "  accuracy = [] \n",
        "  with open( file, 'r') as f:\n",
        "      next(f)\n",
        "      d = f.readlines()\n",
        "      for i in d:\n",
        "          k = i.rstrip().split(\"\\t\") # remove \\t\n",
        "          data.append([float (i)  for i in k]) \n",
        "  data = np.array(data, dtype='O')\n",
        "  attribute_len =  (len(data[1])) -1 \n",
        "\n",
        "  w = [0.0] *(len(data[0]) -1 )\n",
        "  while  learning_rate  <= 1.05: \n",
        "  # traverse through  list of test data \n",
        "      w = [0] *(len(data[0]))\n",
        "      actual_height = []\n",
        "      for i in range ( len(data)): \n",
        "            predicted_height = 0 \n",
        "            observed_height = float ( data[i][-1]) # actual label \n",
        "            actual_height.append (observed_height)\n",
        "            for j in range (attribute_len): \n",
        "                predicted_height  +=  data[i][j] * w [j]\n",
        "            for k in range (13): \n",
        "                w[k] =   w[k] + learning_rate  * (observed_height -  predicted_height) * data[i][k] \n",
        "\n",
        "\n",
        "\n",
        "      predicted = [] \n",
        "      for i in range ( len(data)): \n",
        "            predicted_height = 0 \n",
        "            observed_height = float ( data[i][-1]) # actual label \n",
        "            for j in range (attribute_len): \n",
        "                predicted_height  +=  data[i][j] * w [j]\n",
        "            predicted.append ( predicted_height)\n",
        "\n",
        "\n",
        "      for i in range ( len (predicted)):\n",
        "        if predicted[i] > threshold:\n",
        "          predicted[i] = 1.0 \n",
        "        else:\n",
        "          predicted[i] = 0.0\n",
        "      count = 0 \n",
        "      for i in range ( len  (actual_height)):\n",
        "        if actual_height[i] == predicted[i]:\n",
        "          count += 1 \n",
        "      accuracy.append (count / len(actual_height))\n",
        "      print ( \"learning rate: \" + str(learning_rate))\n",
        "      print ( \"Accuracy: \" + str (count / len(actual_height) ))\n",
        "      print (\"\\n\")\n",
        " \n",
        "      learning_list.append ( learning_rate)\n",
        "      learning_rate  += 0.05\n",
        "  plt.plot (learning_list, accuracy, style , label= file)\n",
        "  plt.xlabel('LEARNING RATE', color= \"WHITE\")\n",
        "  plt.ylabel('ACCURACY', color=\"WHITE\")\n",
        "\n",
        "main(train_file, \"b--\")\n",
        "main(test_file, \"r--\")\n",
        "plt.legend()\n",
        "plt.show()\n",
        "\n",
        "\n",
        "\n",
        "\n",
        "\n",
        " # Loop through all the different learning rates as mentioned above\n",
        "      \n",
        "      # For each learning rate selected, train the and calculate the weights \n",
        "      # Loop through all the data instances in the training file. We will only perform 1 iteration of the complete training data\n",
        "          # For each instance, get the output class label using the original weights\n",
        "          # Get the error value using the provided class label\n",
        "          # Update the weights using the selected learning rate\n",
        "\n",
        "      # Use the above trained model to predict the training data and print the accuracy as \"Accuracy for LR of 0.1 on Training set = x %\"\n",
        "          # For each training instance, predict the output label using the threshold of 0.5\n",
        "          # Compare it with the ground truth class label and calculate the positive and negative classification for accuracy\n",
        "      # Use the above trained model to predict the testing data and print the accuracy as \"Accuracy for LR of 0.1 on Testing set = x %\"\n",
        "          # For each testing instance, predict the output label using the threshold of 0.5\n",
        "          # Compare it with the ground truth class label and calculate the positive and negative classification for accuracy\n"
      ],
      "execution_count": 14,
      "outputs": [
        {
          "output_type": "stream",
          "text": [
            "learning rate: 0.05\n",
            "Accuracy: 0.69\n",
            "\n",
            "\n",
            "learning rate: 0.1\n",
            "Accuracy: 0.68\n",
            "\n",
            "\n",
            "learning rate: 0.15000000000000002\n",
            "Accuracy: 0.71\n",
            "\n",
            "\n",
            "learning rate: 0.2\n",
            "Accuracy: 0.68\n",
            "\n",
            "\n",
            "learning rate: 0.25\n",
            "Accuracy: 0.69\n",
            "\n",
            "\n",
            "learning rate: 0.3\n",
            "Accuracy: 0.68\n",
            "\n",
            "\n",
            "learning rate: 0.35\n",
            "Accuracy: 0.35\n",
            "\n",
            "\n",
            "learning rate: 0.39999999999999997\n",
            "Accuracy: 0.7\n",
            "\n",
            "\n",
            "learning rate: 0.44999999999999996\n",
            "Accuracy: 0.32\n",
            "\n",
            "\n",
            "learning rate: 0.49999999999999994\n",
            "Accuracy: 0.32\n",
            "\n",
            "\n",
            "learning rate: 0.5499999999999999\n",
            "Accuracy: 0.32\n",
            "\n",
            "\n",
            "learning rate: 0.6\n",
            "Accuracy: 0.32\n",
            "\n",
            "\n",
            "learning rate: 0.65\n",
            "Accuracy: 0.32\n",
            "\n",
            "\n",
            "learning rate: 0.7000000000000001\n",
            "Accuracy: 0.32\n",
            "\n",
            "\n",
            "learning rate: 0.7500000000000001\n",
            "Accuracy: 0.32\n",
            "\n",
            "\n",
            "learning rate: 0.8000000000000002\n",
            "Accuracy: 0.68\n",
            "\n",
            "\n",
            "learning rate: 0.8500000000000002\n",
            "Accuracy: 0.68\n",
            "\n",
            "\n",
            "learning rate: 0.9000000000000002\n",
            "Accuracy: 0.32\n",
            "\n",
            "\n",
            "learning rate: 0.9500000000000003\n",
            "Accuracy: 0.68\n",
            "\n",
            "\n",
            "learning rate: 1.0000000000000002\n",
            "Accuracy: 0.67\n",
            "\n",
            "\n"
          ],
          "name": "stdout"
        },
        {
          "output_type": "error",
          "ename": "ValueError",
          "evalue": "ignored",
          "traceback": [
            "\u001b[0;31m---------------------------------------------------------------------------\u001b[0m",
            "\u001b[0;31mValueError\u001b[0m                                Traceback (most recent call last)",
            "\u001b[0;32m<ipython-input-14-31021141515f>\u001b[0m in \u001b[0;36m<module>\u001b[0;34m()\u001b[0m\n\u001b[1;32m     92\u001b[0m \u001b[0;34m\u001b[0m\u001b[0m\n\u001b[1;32m     93\u001b[0m \u001b[0mmain\u001b[0m\u001b[0;34m(\u001b[0m\u001b[0mtrain_file\u001b[0m\u001b[0;34m,\u001b[0m \u001b[0;34m\"b--\"\u001b[0m\u001b[0;34m)\u001b[0m\u001b[0;34m\u001b[0m\u001b[0;34m\u001b[0m\u001b[0m\n\u001b[0;32m---> 94\u001b[0;31m \u001b[0mmain\u001b[0m\u001b[0;34m(\u001b[0m\u001b[0mtest_file\u001b[0m\u001b[0;34m,\u001b[0m \u001b[0;34m\"r--\"\u001b[0m\u001b[0;34m)\u001b[0m\u001b[0;34m\u001b[0m\u001b[0;34m\u001b[0m\u001b[0m\n\u001b[0m\u001b[1;32m     95\u001b[0m \u001b[0mplt\u001b[0m\u001b[0;34m.\u001b[0m\u001b[0mlegend\u001b[0m\u001b[0;34m(\u001b[0m\u001b[0;34m)\u001b[0m\u001b[0;34m\u001b[0m\u001b[0;34m\u001b[0m\u001b[0m\n\u001b[1;32m     96\u001b[0m \u001b[0mplt\u001b[0m\u001b[0;34m.\u001b[0m\u001b[0mshow\u001b[0m\u001b[0;34m(\u001b[0m\u001b[0;34m)\u001b[0m\u001b[0;34m\u001b[0m\u001b[0;34m\u001b[0m\u001b[0m\n",
            "\u001b[0;32m<ipython-input-14-31021141515f>\u001b[0m in \u001b[0;36mmain\u001b[0;34m(file, style)\u001b[0m\n\u001b[1;32m     42\u001b[0m       \u001b[0;32mfor\u001b[0m \u001b[0mi\u001b[0m \u001b[0;32min\u001b[0m \u001b[0md\u001b[0m\u001b[0;34m:\u001b[0m\u001b[0;34m\u001b[0m\u001b[0;34m\u001b[0m\u001b[0m\n\u001b[1;32m     43\u001b[0m           \u001b[0mk\u001b[0m \u001b[0;34m=\u001b[0m \u001b[0mi\u001b[0m\u001b[0;34m.\u001b[0m\u001b[0mrstrip\u001b[0m\u001b[0;34m(\u001b[0m\u001b[0;34m)\u001b[0m\u001b[0;34m.\u001b[0m\u001b[0msplit\u001b[0m\u001b[0;34m(\u001b[0m\u001b[0;34m\"\\t\"\u001b[0m\u001b[0;34m)\u001b[0m \u001b[0;31m# remove \\t\u001b[0m\u001b[0;34m\u001b[0m\u001b[0;34m\u001b[0m\u001b[0m\n\u001b[0;32m---> 44\u001b[0;31m           \u001b[0mdata\u001b[0m\u001b[0;34m.\u001b[0m\u001b[0mappend\u001b[0m\u001b[0;34m(\u001b[0m\u001b[0;34m[\u001b[0m\u001b[0mfloat\u001b[0m \u001b[0;34m(\u001b[0m\u001b[0mi\u001b[0m\u001b[0;34m)\u001b[0m  \u001b[0;32mfor\u001b[0m \u001b[0mi\u001b[0m \u001b[0;32min\u001b[0m \u001b[0mk\u001b[0m\u001b[0;34m]\u001b[0m\u001b[0;34m)\u001b[0m\u001b[0;34m\u001b[0m\u001b[0;34m\u001b[0m\u001b[0m\n\u001b[0m\u001b[1;32m     45\u001b[0m   \u001b[0mdata\u001b[0m \u001b[0;34m=\u001b[0m \u001b[0mnp\u001b[0m\u001b[0;34m.\u001b[0m\u001b[0marray\u001b[0m\u001b[0;34m(\u001b[0m\u001b[0mdata\u001b[0m\u001b[0;34m,\u001b[0m \u001b[0mdtype\u001b[0m\u001b[0;34m=\u001b[0m\u001b[0;34m'O'\u001b[0m\u001b[0;34m)\u001b[0m\u001b[0;34m\u001b[0m\u001b[0;34m\u001b[0m\u001b[0m\n\u001b[1;32m     46\u001b[0m   \u001b[0mattribute_len\u001b[0m \u001b[0;34m=\u001b[0m  \u001b[0;34m(\u001b[0m\u001b[0mlen\u001b[0m\u001b[0;34m(\u001b[0m\u001b[0mdata\u001b[0m\u001b[0;34m[\u001b[0m\u001b[0;36m1\u001b[0m\u001b[0;34m]\u001b[0m\u001b[0;34m)\u001b[0m\u001b[0;34m)\u001b[0m \u001b[0;34m-\u001b[0m\u001b[0;36m1\u001b[0m\u001b[0;34m\u001b[0m\u001b[0;34m\u001b[0m\u001b[0m\n",
            "\u001b[0;32m<ipython-input-14-31021141515f>\u001b[0m in \u001b[0;36m<listcomp>\u001b[0;34m(.0)\u001b[0m\n\u001b[1;32m     42\u001b[0m       \u001b[0;32mfor\u001b[0m \u001b[0mi\u001b[0m \u001b[0;32min\u001b[0m \u001b[0md\u001b[0m\u001b[0;34m:\u001b[0m\u001b[0;34m\u001b[0m\u001b[0;34m\u001b[0m\u001b[0m\n\u001b[1;32m     43\u001b[0m           \u001b[0mk\u001b[0m \u001b[0;34m=\u001b[0m \u001b[0mi\u001b[0m\u001b[0;34m.\u001b[0m\u001b[0mrstrip\u001b[0m\u001b[0;34m(\u001b[0m\u001b[0;34m)\u001b[0m\u001b[0;34m.\u001b[0m\u001b[0msplit\u001b[0m\u001b[0;34m(\u001b[0m\u001b[0;34m\"\\t\"\u001b[0m\u001b[0;34m)\u001b[0m \u001b[0;31m# remove \\t\u001b[0m\u001b[0;34m\u001b[0m\u001b[0;34m\u001b[0m\u001b[0m\n\u001b[0;32m---> 44\u001b[0;31m           \u001b[0mdata\u001b[0m\u001b[0;34m.\u001b[0m\u001b[0mappend\u001b[0m\u001b[0;34m(\u001b[0m\u001b[0;34m[\u001b[0m\u001b[0mfloat\u001b[0m \u001b[0;34m(\u001b[0m\u001b[0mi\u001b[0m\u001b[0;34m)\u001b[0m  \u001b[0;32mfor\u001b[0m \u001b[0mi\u001b[0m \u001b[0;32min\u001b[0m \u001b[0mk\u001b[0m\u001b[0;34m]\u001b[0m\u001b[0;34m)\u001b[0m\u001b[0;34m\u001b[0m\u001b[0;34m\u001b[0m\u001b[0m\n\u001b[0m\u001b[1;32m     45\u001b[0m   \u001b[0mdata\u001b[0m \u001b[0;34m=\u001b[0m \u001b[0mnp\u001b[0m\u001b[0;34m.\u001b[0m\u001b[0marray\u001b[0m\u001b[0;34m(\u001b[0m\u001b[0mdata\u001b[0m\u001b[0;34m,\u001b[0m \u001b[0mdtype\u001b[0m\u001b[0;34m=\u001b[0m\u001b[0;34m'O'\u001b[0m\u001b[0;34m)\u001b[0m\u001b[0;34m\u001b[0m\u001b[0;34m\u001b[0m\u001b[0m\n\u001b[1;32m     46\u001b[0m   \u001b[0mattribute_len\u001b[0m \u001b[0;34m=\u001b[0m  \u001b[0;34m(\u001b[0m\u001b[0mlen\u001b[0m\u001b[0;34m(\u001b[0m\u001b[0mdata\u001b[0m\u001b[0;34m[\u001b[0m\u001b[0;36m1\u001b[0m\u001b[0;34m]\u001b[0m\u001b[0;34m)\u001b[0m\u001b[0;34m)\u001b[0m \u001b[0;34m-\u001b[0m\u001b[0;36m1\u001b[0m\u001b[0;34m\u001b[0m\u001b[0;34m\u001b[0m\u001b[0m\n",
            "\u001b[0;31mValueError\u001b[0m: could not convert string to float: "
          ]
        },
        {
          "output_type": "display_data",
          "data": {
            "image/png": "[encoded data removed]",
            "text/plain": [
              "<Figure size 432x288 with 1 Axes>"
            ]
          },
          "metadata": {
            "tags": [],
            "needs_background": "light"
          }
        }
      ]
    },
    {
      "cell_type": "markdown",
      "metadata": {
        "id": "lYxmgcnes9cS"
      },
      "source": [
        "##Extra Credit - Accuracy Plots\n",
        "\n",
        "(5 points)\n",
        "\n",
        "Use the above accuracy results on the training and testing data and write code to plot the graphs as mentioned in the code block below.\n",
        "\n"
      ]
    },
    {
      "cell_type": "code",
      "metadata": {
        "id": "fbBNakSDq0Wv"
      },
      "source": [
        "# Plot the graphs for accuracy results.\n",
        "# There will be 2 graphs - one for training data and the other for testing data\n",
        "# For each graph,\n",
        "    # X-axis will be the learning rate going from 0.05-1 in increments on 0.05\n",
        "    # Y-axis will be the accuracy values at the selected learning rate.\n",
        "\n"
      ],
      "execution_count": null,
      "outputs": []
    },
    {
      "cell_type": "markdown",
      "metadata": {
        "id": "onnqJYTEq0l3"
      },
      "source": [
        "#ID3 Decision Tree\n",
        "\n",
        "In this section, you will implement the ID3 Decision Tree algorithm. The training is for a **binary classification** task i.e. each instance will have a class value of 0 or 1. Also, assume that you are given **all binary-valued attributes** and that there are **no missing values** in the train or test data. \n"
      ]
    },
    {
      "cell_type": "markdown",
      "metadata": {
        "id": "eDNztBkTtRPw"
      },
      "source": [
        "##Algorithm\n",
        "\n",
        "(100 points)\n",
        "\n",
        "Following are the data files that will be provided to you for the ID3 algorithm implementation.\n",
        "\n",
        "*   Training file - 'id3-train.dat'\n",
        "*   Testing file - 'id3-test.dat'\n",
        "\n",
        "*Both these files should be present in the same folder as this code file.* In these files, only non-space characters are relevant. The first line contains the attribute names. All the other lines are example instances to be used for the algorithm. Each column holds values of the attributes, whereas the last column holds the class label for that instance.\n",
        "\n",
        "In a decision tree, if you reach a leaf node but still have examples that belong to different classes, then choose the most frequent class (among the instances at the leaf node). If you reach a leaf node in the decision tree and have no examples left or the examples are equally split among multiple classes, then choose the class that is most frequent in the entire training set. You do not need to implement pruning. Also, don’t forget to use logarithm base 2 when computing entropy and set (0 log 0) to 0.\n",
        "\n",
        "Write the code in the following code block, structure is provided. Instructions on the steps to follow are provided as comments. The code should output the following 3 things:\n",
        "\n",
        "*   Print the Decision Tree created, in the following example format:\n",
        "\n",
        "    ```\n",
        "    attr1 = 0 :\n",
        "        attr2 = 0 :\n",
        "            attr3 = 0 : 1\n",
        "            attr3 = 1 : 0\n",
        "        attr3 = 1 :\n",
        "            attr4 = 0 : 0\n",
        "            attr4 = 1 : 1\n",
        "    attr1 = 1 :\n",
        "        attr2 = 1 : 1\n",
        "\n",
        "    ```\n",
        "\n",
        "*   Accuracy on the Training data = x %\n",
        "*   Accuracy on the Test data = x %\n",
        "\n",
        "\n",
        "\n"
      ]
    },
    {
      "cell_type": "code",
      "metadata": {
        "id": "XELGzRDftS77",
        "colab": {
          "base_uri": "https://localhost:8080/"
        },
        "outputId": "49d991de-70cd-4343-f8b2-49f13314bd92"
      },
      "source": [
        "# Following is the base code structure. You are free to change the code structure as you see fit, maybe even create more functions.\n",
        "\n",
        "\n",
        "# Pseudocode for the ID3 algorithm. Use this to create a function. You can also have more functions for the other parts mentioned.\n",
        "# def ID3(data, root, attributesRemaining):\n",
        "    # If you reach a leaf node in the decision tree and have no examples left or the examples are equally split among multiple classes\n",
        "        # Choose and the class that is most frequent in the entire training set and return the updated tree\n",
        "    # If all the instances have only one class label\n",
        "        # Make this as the leal node and use the label as the class value of the node and return the updated tree\n",
        "    # If you reahed a leaf node but still have examples that belong to different classes (there are no remaining attributes to be split)\n",
        "        # Assign the most frequent class among the instances at the leaf node and return the updated tree\n",
        "    # Find the best attribute to split by calculating the maximum information gain from the attributes remaining by calculating the entropy\n",
        "    # Split the tree using the best attribute and recursively call the ID3 function using DFS to fill the sub-tree\n",
        "    # return the root as the tree\n",
        "\n",
        "# Data file name variables\n",
        "import numpy as np\n",
        "import csv \n",
        "\n",
        "train = '/content/drive/My Drive/Colab Notebooks/Artificial Intelligence/Data/id3-train.dat'\n",
        "test = '/content/drive/My Drive/Colab Notebooks/Artificial Intelligence/Data/id3-test.dat'\n",
        "\n",
        "\n",
        "data = [ ]\n",
        "np_array= [] \n",
        "HEADERS = next(csv.reader(open(train)))\n",
        "HEADERS = HEADERS[0].split()\n",
        "data_results = [] \n",
        "\n",
        "YES = 1 \n",
        "NO =  0 \n",
        "max = 0 \n",
        "with open ( train, 'r') as f: \n",
        "  next(f)\n",
        "  d = f.readlines()\n",
        "  for i in d:\n",
        "    k = i.rstrip().split(\"\\t\") # remove \\t\n",
        "    data.append([float (i)  for i in k]) \n",
        "\n",
        "np_array = np.array ( data)\n",
        "nrows, ncols = np.shape ( np_array)\n",
        "PARENT  = 0\n",
        "#  we are looking for at attribute 1 and  label according to the lecture \n",
        "# attribute1 has 1 or  0 \n",
        "\n",
        "def parent_node_entropy (): \n",
        "    global np_array\n",
        "    global NO \n",
        "    global YES\n",
        "    last_col = np_array[:, np.shape (np_array)[1] -1]\n",
        "    num_yes, num_no =  ( np.count_nonzero ( last_col  == YES ),  np.count_nonzero( last_col  == NO ) )\n",
        "    return ( - num_yes / ( num_yes + num_no) * np.log2(num_yes / ( num_yes + num_no))) + ( - num_no / ( num_yes + num_no) * np.log2(num_no / ( num_yes + num_no)))\n",
        "\n",
        "\n",
        "def sub_node_entropy (parent_entropy): \n",
        "    global np_array\n",
        "    global NO \n",
        "    global YES\n",
        "    last_col = np_array[:, np.shape (np_array)[1] -1]\n",
        "    num_yes, num_no =  ( np.count_nonzero ( last_col  == YES ),  np.count_nonzero( last_col  == NO ) )\n",
        "    return ( - num_yes / ( num_yes + num_no) * np.log2(num_yes / ( num_yes + num_no))) + ( - num_no / ( num_yes + num_no) * np.log2(num_no / ( num_yes + num_no)))\n",
        "\n",
        "def cal_attribute_component_entropy (value, index ): \n",
        "    global np_array\n",
        "    global YES\n",
        "    global NO\n",
        "    rows  =  np_array[np_array[:, index ] == value]\n",
        "    last_col =   rows [:, np.shape (rows)[1] -1]\n",
        "    num_value =   np.count_nonzero ( last_col == value )\n",
        "    num_remainder =  np.shape( rows)[0] - num_value\n",
        "    return ( - num_value / ( num_value + num_remainder) * np.log2(num_value / ( num_value + num_remainder))) + ( - num_remainder / ( num_value + num_remainder) * np.log2(num_remainder / ( num_value + num_remainder)))\n",
        "\n",
        "def count_yes_no (value, attr_index): \n",
        "    global np_array\n",
        "    rows  =  np_array[np_array[:, attr_index] == value]\n",
        "    last_col =   rows [:, np.shape (rows)[1] -1]\n",
        "    num_value =   np.count_nonzero ( last_col == value )\n",
        "    num_remainder =  np.shape( rows)[0] - num_value\n",
        "    return ( num_value, num_remainder)\n",
        "\n",
        "def average_component_of_that_attribute (Entropy , attr_index, num_yes, num_no ): \n",
        "    global np_array\n",
        "    sum_yes = num_yes[0] + num_yes [1]\n",
        "    sum_no = num_no[0] + num_no [1]\n",
        "    entropy_yes,entropy_no = Entropy\n",
        "    return  ((sum_yes /  np.shape(np_array)[0]) * entropy_yes ) +  ((sum_no /  np.shape(np_array)[0]) * entropy_no )\n",
        "\n",
        "def information_gain ( VALUE ):\n",
        "  global PARENT\n",
        "  return PARENT - VALUE\n",
        "\n",
        "def build_tree ( data_results):\n",
        "  global max\n",
        "  attribute = ' '\n",
        "  print ( \"Outlook: \")\n",
        "  for i  in  data_results:\n",
        "    print ( \"\\t\" +  i[\"ATTRIBUTE\"])\n",
        "    print ( \"\\n\\t YES: \" +  str ( i[\"YES_ENTROPY\"] ) + \"   NO:  \" +  str (i[\"NO_ENTROPY\"]))\n",
        "    print ( \"\\n\\t Average: \" +  str ( i[\"AVERAGE\"] ))\n",
        "    print (\"\\n\")\n",
        "    max, attribute = argmax ()\n",
        "  \n",
        "  print (\"Splitting \" + attribute + \" argmax: \" + str( max))\n",
        "  for j in  data_results: \n",
        "    if j[\"ATTRIBUTE\"] ==  attribute:\n",
        "      print ( \"\\t\\t\" +  j[\"ATTRIBUTE\"])\n",
        "      print ( \"\\n\\t\\t YES: \" +  str ( j[\"YES_ENTROPY\"] ) + \"   NO:  \" +  str (j[\"NO_ENTROPY\"]))\n",
        "      print ( \"\\n\\t\\t Average: \" +  str ( j[\"AVERAGE\"] ))\n",
        "      print (\"\\n\")\n",
        "\n",
        "\n",
        "\n",
        "\n",
        "def argmax ():\n",
        "  max  = 0 \n",
        "  attribute = '' \n",
        "  for obj in data_results:\n",
        "    ig = information_gain ( obj[\"AVERAGE\"])\n",
        "    if max <  ig :\n",
        "        max = ig\n",
        "        attribute = obj[\"ATTRIBUTE\"]\n",
        "  return (max, attribute )  \n",
        "\n",
        "for  attr_index  in  range ( len ( HEADERS)): \n",
        "      # print (\"\\n\")\n",
        "      # print ( HEADERS[attr_index])\n",
        "      CHILD_YES_ENTROPY   =   cal_attribute_component_entropy ( YES, attr_index)\n",
        "      CHILD_NO_ENTROPY    =    cal_attribute_component_entropy ( NO, attr_index)\n",
        "      # print ( \"\\t YES_ENTROPY  = %f , NO_ENTROPY = %f \" % ( CHILD_YES_ENTROPY, CHILD_NO_ENTROPY))\n",
        "      NUM_YES_1, NUM_YES_0  = count_yes_no ( YES , attr_index)\n",
        "      NUM_NO_1, NUM_NO_0  = count_yes_no ( NO , attr_index)\n",
        "      Entropy =  ( CHILD_YES_ENTROPY, CHILD_NO_ENTROPY ) \n",
        "      NUM_COUNT_YES       =   ( NUM_YES_1, NUM_YES_0 ) \n",
        "      NUM_COUNT_NO       =   ( NUM_NO_1, NUM_NO_0 ) \n",
        "      average = average_component_of_that_attribute ( Entropy , attr_index, NUM_COUNT_YES, NUM_COUNT_NO ) \n",
        "      # print ( \"\\t Average: \" +  str(average))\n",
        "      data_results.append ( {\"ATTRIBUTE\" : HEADERS [attr_index], \"YES_ENTROPY\" : CHILD_YES_ENTROPY, \"NO_ENTROPY\": CHILD_NO_ENTROPY, \"AVERAGE\": average})\n",
        "\n",
        "max, attr = argmax ()\n",
        "\n",
        "PARENT =  parent_node_entropy () # ›return ( num of yes , num of No )\n",
        "\n",
        "\n",
        "t = build_tree (data_results)\n",
        "\n",
        "# E =   ( - Num of No  / total number of total value  * log2  num of No / total values  ) + ( ( - Num of Yes / total number of total value  * log2  num of Yes / total values  )\n",
        "# average Entropy = no of that particular entropy  + yes of that particular entropy  / size of data  * entropy of that attribute name in this case 0 or 1 \n",
        "\n",
        "\n",
        "# yes = 1\n",
        "#  no = 0 \n",
        "# Dictionary data \n",
        "  #  data_result structure = [\n",
        "        # {\n",
        "          # ATTRIBUTE: attr1,\n",
        "          # YES_ENTROPY: 0.7999,\n",
        "          # NO_ENTROPY: 0.8911,\n",
        "          # AVERAGE: 0.89\n",
        "        # }, \n",
        "\n",
        "  # ]\n",
        "\n",
        "\n",
        "\n",
        "\n",
        "# Read the first line in the training data file, to get the number of attributes\n",
        "# Read all the training instances and the ground truth class labels.\n",
        "# Create the decision tree by implementing the ID3 algorithm. Pseudocode provided above.\n",
        "# Print the tree in the example format mentioned.\n",
        "# Use the above created tree to predict the training data and print the accuracy as \"Accuracy on the Training data = x %\"\n",
        "    # For each training instance, predict the output label\n",
        "    # Compare it with the ground truth class label and calculate the accuracy accordingly\n",
        "# Use the above created tree to predict the testing data and print the accuracy as \"Accuracy on the Test data = x %\"\n",
        "    # For each testing instance, predict the output label\n",
        "    # Compare it with the ground truth class label and calculate the accuracy accordingly\n",
        "\n",
        "\n"
      ],
      "execution_count": 16,
      "outputs": [
        {
          "output_type": "stream",
          "text": [
            "Outlook: \n",
            "\tattr1\n",
            "\n",
            "\t YES: 0.7198825782396312   NO:  0.9366673818775625\n",
            "\n",
            "\t Average: 0.8304428280949762\n",
            "\n",
            "\n",
            "\tattr2\n",
            "\n",
            "\t YES: 0.8453509366224365   NO:  0.8584018349322118\n",
            "\n",
            "\t Average: 0.8519416402688731\n",
            "\n",
            "\n",
            "\tattr3\n",
            "\n",
            "\t YES: 0.9272561253173004   NO:  0.7479307147349834\n",
            "\n",
            "\t Average: 0.8369209497364583\n",
            "\n",
            "\n",
            "\tattr4\n",
            "\n",
            "\t YES: 0.9364186274530315   NO:  0.7156667350485827\n",
            "\n",
            "\t Average: 0.8299058393678849\n",
            "\n",
            "\n",
            "\tattr5\n",
            "\n",
            "\t YES: 0.9645267831447454   NO:  0.6431538897020799\n",
            "\n",
            "\t Average: 0.8050454847738227\n",
            "\n",
            "\n",
            "\tattr6\n",
            "\n",
            "\t YES: 0.7393312226996487   NO:  0.9253226662912561\n",
            "\n",
            "\t Average: 0.8362792626717741\n",
            "\n",
            "\n",
            "\tclass\n",
            "\n",
            "\t YES: nan   NO:  nan\n",
            "\n",
            "\t Average: nan\n",
            "\n",
            "\n",
            "Splitting attr5 argmax: 0.04697649648200719\n",
            "\t\tattr5\n",
            "\n",
            "\t\t YES: 0.9645267831447454   NO:  0.6431538897020799\n",
            "\n",
            "\t\t Average: 0.8050454847738227\n",
            "\n",
            "\n"
          ],
          "name": "stdout"
        },
        {
          "output_type": "stream",
          "text": [
            "/usr/local/lib/python3.7/dist-packages/ipykernel_launcher.py:71: RuntimeWarning: divide by zero encountered in log2\n",
            "/usr/local/lib/python3.7/dist-packages/ipykernel_launcher.py:71: RuntimeWarning: invalid value encountered in double_scalars\n"
          ],
          "name": "stderr"
        }
      ]
    },
    {
      "cell_type": "markdown",
      "metadata": {
        "id": "YvYowzzA4vcd"
      },
      "source": [
        "##Extra Credit - Learning Curve\n",
        "\n",
        "(05 points)\n",
        "\n",
        "Instead of taking the entire training data (all 800 instances), loop through to select 'x' instances in the increments of 40 (i.e. 40, 80, 120, and so on). For each selected number 'x', randomly pick the example instances from the training data and call the ID3 function to create the decision tree. Calculate the accuracy of the created ID3 tree on the Test data file. Plot the corresponding graph, aka Learning Curve.\n"
      ]
    },
    {
      "cell_type": "code",
      "metadata": {
        "id": "FYSK99zp5a7H"
      },
      "source": [
        "# Loop through to select the number of instances 'x' in increments of 40\n",
        "# For each 'x',\n",
        "    # Randomly select 'x' instances\n",
        "    # Create the ID3 decision tree using those instances\n",
        "    # Calculate the accuracy of the ID3 tree created on the Test data\n",
        "\n",
        "# Plot the learning curve using the accuracy values\n",
        "    # X-axis will be the number of training instances used for creating the tree\n",
        "    # Y-axis will be the accuracy in % on the Test data\n",
        "\n"
      ],
      "execution_count": null,
      "outputs": []
    },
    {
      "cell_type": "markdown",
      "metadata": {
        "id": "YJSFgNBQrhQU"
      },
      "source": [
        "#Submission Instructions\n",
        "\n",
        "\n",
        "\n",
        "1.   Complete all tasks above.\n",
        "2.   Export this notebook as .ipynb\n",
        "      (File > Download as ipynb)\n",
        "3.   Upload the .ipynb file on Blackboard\n",
        "\n"
      ]
    },
    {
      "cell_type": "markdown",
      "metadata": {
        "id": "0lGvLE9H6ptL"
      },
      "source": [
        "##Rubric\n",
        "\n",
        "*   (40 points) Gradient Descent Algorithm\n",
        "*   (05 points) Extra Credit - GD Accuracy Plots\n",
        "*   (100 points) ID3 Algorithm\n",
        "*   (05 points) Extra Credit - ID3 Learning Curve\n",
        "\n",
        "\n",
        "\n"
      ]
    }
  ]
}
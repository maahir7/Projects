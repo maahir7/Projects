{
 "cells": [
  {
   "cell_type": "code",
   "execution_count": 2,
   "metadata": {},
   "outputs": [
    {
     "name": "stdout",
     "output_type": "stream",
     "text": [
      "Welcome to Python Programming\n",
      "Pytho\n",
      "mming\n",
      "Welcome to Python Programming!!!\n"
     ]
    }
   ],
   "source": [
    "# Download the file ert547_hw1.ipynb; Open the file in JupyterLab; Run the code by clicking the “Run” button, …)\n",
    "str  = \"Welcome to Python Programming\"\n",
    "print (str)\n",
    "substr = str [11:16]\n",
    "print (substr)\n",
    "substr = str [-5:]\n",
    "print (substr)\n",
    "str = str + '!!!'\n",
    "print (str)"
   ]
  },
  {
   "cell_type": "code",
   "execution_count": 3,
   "metadata": {},
   "outputs": [
    {
     "name": "stdout",
     "output_type": "stream",
     "text": [
      "[1, 2, 3, 4]\n",
      "[1, 2, 3, 4, 5, 6]\n",
      "[1, 2, 3, 4, 5, 6, ['perfect', 'wonderful']]\n",
      "[1, 2, 3, 4, 5, 6, ['perfect', 'wonderful'], [7, 8], [9, 10]]\n",
      "[1, 2, 3, 4, 5, 6, ['perfect', 'wonderful'], [7, 8], [9, 10], 8.5, 7, 'code', 'software']\n",
      "[[9, 10], 8.5, 7, 'code', 'software']\n",
      "[1, 2, 3, ['perfect', 'wonderful'], [7, 8], [9, 10], 8.5, 7, 'code', 'software']\n"
     ]
    }
   ],
   "source": [
    "list = []\n",
    "list.append (1)\n",
    "list.append (2)\n",
    "list.append (3)\n",
    "list.append (4)\n",
    "print (list)\n",
    "list.extend ((5,6))\n",
    "print (list)\n",
    "list.append (['perfect','wonderful'])\n",
    "print (list)\n",
    "list = list + ([[7, 8], [9, 10]])\n",
    "print (list)\n",
    "list.extend ((8.5, 7, 'code', 'software'))\n",
    "print (list)\n",
    "print (list[-5:])\n",
    "del list[3:6]\n",
    "print (list)"
   ]
  },
  {
   "cell_type": "code",
   "execution_count": 4,
   "metadata": {},
   "outputs": [
    {
     "name": "stdout",
     "output_type": "stream",
     "text": [
      "(1, 2, 3, 4)\n",
      "('Python', 'for', 'kids')\n",
      "(1, 2, 3, 4, 'Python', 'for', 'kids')\n",
      "(4, 'Python', 'for', 'kids')\n"
     ]
    }
   ],
   "source": [
    "Tuple1 = 1, 2, 3, 4 \n",
    "print (Tuple1)\n",
    "Tuple2 = 'Python', 'for', 'kids'\n",
    "print (Tuple2)\n",
    "Tuple1 = Tuple1 + Tuple2\n",
    "print (Tuple1)\n",
    "print (Tuple1[3:])"
   ]
  },
  {
   "cell_type": "code",
   "execution_count": 5,
   "metadata": {},
   "outputs": [
    {
     "name": "stdout",
     "output_type": "stream",
     "text": [
      "{'Python': 0, 'Programming': 1, 'Funny': 2}\n",
      "dict_keys(['Python', 'Programming', 'Funny'])\n",
      "dict_values([0, 'is very', 2])\n",
      "{'Python': 0, 'Programming': 'is very'}\n",
      "Funny is not in key\n",
      "dict_values([0, 'is very'])\n"
     ]
    }
   ],
   "source": [
    "Dict = {}\n",
    "Dict.update({'Python': 0})\n",
    "Dict.update({'Programming': 1})\n",
    "Dict.update({'Funny': 2})\n",
    "print (Dict)\n",
    "Dict['Programming'] =  'is very'\n",
    "print (Dict.keys())\n",
    "print (Dict.values())\n",
    "del Dict[\"Funny\"]\n",
    "print (Dict)\n",
    "if \"Funny\" in Dict:\n",
    "    print(\"Funny is in key\")\n",
    "else:    \n",
    "    print(\"Funny is not in key\")\n",
    "list3 = Dict.values()\n",
    "print(list3)"
   ]
  },
  {
   "cell_type": "code",
   "execution_count": null,
   "metadata": {},
   "outputs": [],
   "source": []
  }
 ],
 "metadata": {
  "kernelspec": {
   "display_name": "Python 3",
   "language": "python",
   "name": "python3"
  },
  "language_info": {
   "codemirror_mode": {
    "name": "ipython",
    "version": 3
   },
   "file_extension": ".py",
   "mimetype": "text/x-python",
   "name": "python",
   "nbconvert_exporter": "python",
   "pygments_lexer": "ipython3",
   "version": "3.8.5"
  }
 },
 "nbformat": 4,
 "nbformat_minor": 4
}
